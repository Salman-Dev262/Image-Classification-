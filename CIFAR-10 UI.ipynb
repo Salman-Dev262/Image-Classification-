{
 "cells": [
  {
   "cell_type": "code",
   "execution_count": 3,
   "id": "66af682f-f274-40f1-b68f-38cc7fe3a374",
   "metadata": {},
   "outputs": [
    {
     "name": "stdout",
     "output_type": "stream",
     "text": [
      "Model loaded successfully!\n",
      "* Running on local URL:  http://127.0.0.1:7861\n",
      "* To create a public link, set `share=True` in `launch()`.\n"
     ]
    },
    {
     "data": {
      "text/html": [
       "<div><iframe src=\"http://127.0.0.1:7861/\" width=\"100%\" height=\"500\" allow=\"autoplay; camera; microphone; clipboard-read; clipboard-write;\" frameborder=\"0\" allowfullscreen></iframe></div>"
      ],
      "text/plain": [
       "<IPython.core.display.HTML object>"
      ]
     },
     "metadata": {},
     "output_type": "display_data"
    },
    {
     "data": {
      "text/plain": []
     },
     "execution_count": 3,
     "metadata": {},
     "output_type": "execute_result"
    }
   ],
   "source": [
    "import gradio as gr\n",
    "import tensorflow as tf\n",
    "import numpy as np\n",
    "from PIL import Image\n",
    "\n",
    "# Define the CIFAR-10 class names\n",
    "class_names = ['airplane', 'automobile', 'bird', 'cat', 'deer', 'dog', 'frog', 'horse', 'ship', 'truck']\n",
    "\n",
    "# Load the pre-trained CIFAR-10 model\n",
    "# Make sure 'cifar10Model.keras' is in the same directory as your script\n",
    "try:\n",
    "    model = tf.keras.models.load_model(\"cifar10Model.keras\")\n",
    "    print(\"Model loaded successfully!\")\n",
    "except Exception as e:\n",
    "    print(f\"Error loading model: {e}\")\n",
    "    print(\"Please ensure 'cifar10Model.keras' is in the correct directory.\")\n",
    "    # Exit or handle the error appropriately if the model can't be loaded\n",
    "\n",
    "def predict_cifar10_image(image: np.ndarray) -> str:\n",
    "    \"\"\"\n",
    "    Predicts the class of a CIFAR-10 image using the loaded model.\n",
    "\n",
    "    Args:\n",
    "        image: A NumPy array representing the input image (e.g., from Gradio's gr.Image).\n",
    "\n",
    "    Returns:\n",
    "        A string indicating the predicted class.\n",
    "    \"\"\"\n",
    "    if image is None:\n",
    "        return \"No image uploaded.\"\n",
    "\n",
    "    # Preprocess the image\n",
    "    # Convert numpy array to PIL Image for resizing\n",
    "    img_pil = Image.fromarray(image.astype('uint8'))\n",
    "    # CIFAR-10 images are 32x32\n",
    "    img_resized = img_pil.resize((32, 32))\n",
    "    # Convert back to numpy array and normalize to [0, 1]\n",
    "    img_array = np.array(img_resized).astype('float32') / 255.0\n",
    "    # Add batch dimension (1, 32, 32, 3)\n",
    "    img_array = np.expand_dims(img_array, axis=0)\n",
    "\n",
    "    # Make prediction\n",
    "    predictions = model.predict(img_array)\n",
    "    predicted_class_index = np.argmax(predictions, axis=1)[0]\n",
    "    predicted_class_name = class_names[predicted_class_index]\n",
    "\n",
    "    # You can also include probabilities if desired, similar to your example\n",
    "    # For now, let's just return the class name\n",
    "    return f\"Predicted Class: {predicted_class_name}\"\n",
    "\n",
    "# Create the Gradio interface\n",
    "iface_cifar10_prediction = gr.Interface(\n",
    "    fn=predict_cifar10_image,\n",
    "    inputs=gr.Image(type=\"numpy\", label=\"Upload a CIFAR-10 Image\"),\n",
    "    outputs=gr.Textbox(label=\"Prediction Result\"),\n",
    "    title=\"CIFAR-10 Image Classification\",\n",
    "    description=\"Upload an image to get its predicted class from the CIFAR-10 dataset.\",\n",
    "    examples=[\n",
    "        # You can add example image paths here if you have them, e.g.:\n",
    "        # \"path/to/your/image1.png\",\n",
    "        # \"path/to/your/image2.jpg\"\n",
    "    ],\n",
    "    live=True # Predicts as you upload/change image\n",
    ")\n",
    "\n",
    "# To launch the Gradio app, uncomment the line below:\n",
    "iface_cifar10_prediction.launch(share=False)"
   ]
  },
  {
   "cell_type": "code",
   "execution_count": null,
   "id": "ab229bef-870e-4b5b-b756-c1b3eacad87f",
   "metadata": {},
   "outputs": [],
   "source": []
  }
 ],
 "metadata": {
  "kernelspec": {
   "display_name": "Python [conda env:base] *",
   "language": "python",
   "name": "conda-base-py"
  },
  "language_info": {
   "codemirror_mode": {
    "name": "ipython",
    "version": 3
   },
   "file_extension": ".py",
   "mimetype": "text/x-python",
   "name": "python",
   "nbconvert_exporter": "python",
   "pygments_lexer": "ipython3",
   "version": "3.12.7"
  }
 },
 "nbformat": 4,
 "nbformat_minor": 5
}
